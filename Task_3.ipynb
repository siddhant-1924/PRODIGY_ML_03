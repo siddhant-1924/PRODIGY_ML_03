{
  "cells": [
    {
      "cell_type": "markdown",
      "metadata": {
        "id": "view-in-github",
        "colab_type": "text"
      },
      "source": [
        "<a href=\"https://colab.research.google.com/github/siddhant-1924/PRODIGY_ML_03/blob/main/Task_3.ipynb\" target=\"_parent\"><img src=\"https://colab.research.google.com/assets/colab-badge.svg\" alt=\"Open In Colab\"/></a>"
      ]
    },
    {
      "cell_type": "code",
      "execution_count": 1,
      "metadata": {
        "id": "8rfzU6WWB06y"
      },
      "outputs": [],
      "source": [
        "!pip install -q kaggle opencv-python scikit-learn tensorflow matplotlib numpy"
      ]
    },
    {
      "cell_type": "code",
      "execution_count": 2,
      "metadata": {
        "colab": {
          "base_uri": "https://localhost:8080/",
          "height": 90
        },
        "id": "QFrWe_FqGH7-",
        "outputId": "b7753408-7f4b-4007-fe57-e348d042c399"
      },
      "outputs": [
        {
          "output_type": "display_data",
          "data": {
            "text/plain": [
              "<IPython.core.display.HTML object>"
            ],
            "text/html": [
              "\n",
              "     <input type=\"file\" id=\"files-556b07de-98b4-46da-9f87-cbd2fc90ab40\" name=\"files[]\" multiple disabled\n",
              "        style=\"border:none\" />\n",
              "     <output id=\"result-556b07de-98b4-46da-9f87-cbd2fc90ab40\">\n",
              "      Upload widget is only available when the cell has been executed in the\n",
              "      current browser session. Please rerun this cell to enable.\n",
              "      </output>\n",
              "      <script>// Copyright 2017 Google LLC\n",
              "//\n",
              "// Licensed under the Apache License, Version 2.0 (the \"License\");\n",
              "// you may not use this file except in compliance with the License.\n",
              "// You may obtain a copy of the License at\n",
              "//\n",
              "//      http://www.apache.org/licenses/LICENSE-2.0\n",
              "//\n",
              "// Unless required by applicable law or agreed to in writing, software\n",
              "// distributed under the License is distributed on an \"AS IS\" BASIS,\n",
              "// WITHOUT WARRANTIES OR CONDITIONS OF ANY KIND, either express or implied.\n",
              "// See the License for the specific language governing permissions and\n",
              "// limitations under the License.\n",
              "\n",
              "/**\n",
              " * @fileoverview Helpers for google.colab Python module.\n",
              " */\n",
              "(function(scope) {\n",
              "function span(text, styleAttributes = {}) {\n",
              "  const element = document.createElement('span');\n",
              "  element.textContent = text;\n",
              "  for (const key of Object.keys(styleAttributes)) {\n",
              "    element.style[key] = styleAttributes[key];\n",
              "  }\n",
              "  return element;\n",
              "}\n",
              "\n",
              "// Max number of bytes which will be uploaded at a time.\n",
              "const MAX_PAYLOAD_SIZE = 100 * 1024;\n",
              "\n",
              "function _uploadFiles(inputId, outputId) {\n",
              "  const steps = uploadFilesStep(inputId, outputId);\n",
              "  const outputElement = document.getElementById(outputId);\n",
              "  // Cache steps on the outputElement to make it available for the next call\n",
              "  // to uploadFilesContinue from Python.\n",
              "  outputElement.steps = steps;\n",
              "\n",
              "  return _uploadFilesContinue(outputId);\n",
              "}\n",
              "\n",
              "// This is roughly an async generator (not supported in the browser yet),\n",
              "// where there are multiple asynchronous steps and the Python side is going\n",
              "// to poll for completion of each step.\n",
              "// This uses a Promise to block the python side on completion of each step,\n",
              "// then passes the result of the previous step as the input to the next step.\n",
              "function _uploadFilesContinue(outputId) {\n",
              "  const outputElement = document.getElementById(outputId);\n",
              "  const steps = outputElement.steps;\n",
              "\n",
              "  const next = steps.next(outputElement.lastPromiseValue);\n",
              "  return Promise.resolve(next.value.promise).then((value) => {\n",
              "    // Cache the last promise value to make it available to the next\n",
              "    // step of the generator.\n",
              "    outputElement.lastPromiseValue = value;\n",
              "    return next.value.response;\n",
              "  });\n",
              "}\n",
              "\n",
              "/**\n",
              " * Generator function which is called between each async step of the upload\n",
              " * process.\n",
              " * @param {string} inputId Element ID of the input file picker element.\n",
              " * @param {string} outputId Element ID of the output display.\n",
              " * @return {!Iterable<!Object>} Iterable of next steps.\n",
              " */\n",
              "function* uploadFilesStep(inputId, outputId) {\n",
              "  const inputElement = document.getElementById(inputId);\n",
              "  inputElement.disabled = false;\n",
              "\n",
              "  const outputElement = document.getElementById(outputId);\n",
              "  outputElement.innerHTML = '';\n",
              "\n",
              "  const pickedPromise = new Promise((resolve) => {\n",
              "    inputElement.addEventListener('change', (e) => {\n",
              "      resolve(e.target.files);\n",
              "    });\n",
              "  });\n",
              "\n",
              "  const cancel = document.createElement('button');\n",
              "  inputElement.parentElement.appendChild(cancel);\n",
              "  cancel.textContent = 'Cancel upload';\n",
              "  const cancelPromise = new Promise((resolve) => {\n",
              "    cancel.onclick = () => {\n",
              "      resolve(null);\n",
              "    };\n",
              "  });\n",
              "\n",
              "  // Wait for the user to pick the files.\n",
              "  const files = yield {\n",
              "    promise: Promise.race([pickedPromise, cancelPromise]),\n",
              "    response: {\n",
              "      action: 'starting',\n",
              "    }\n",
              "  };\n",
              "\n",
              "  cancel.remove();\n",
              "\n",
              "  // Disable the input element since further picks are not allowed.\n",
              "  inputElement.disabled = true;\n",
              "\n",
              "  if (!files) {\n",
              "    return {\n",
              "      response: {\n",
              "        action: 'complete',\n",
              "      }\n",
              "    };\n",
              "  }\n",
              "\n",
              "  for (const file of files) {\n",
              "    const li = document.createElement('li');\n",
              "    li.append(span(file.name, {fontWeight: 'bold'}));\n",
              "    li.append(span(\n",
              "        `(${file.type || 'n/a'}) - ${file.size} bytes, ` +\n",
              "        `last modified: ${\n",
              "            file.lastModifiedDate ? file.lastModifiedDate.toLocaleDateString() :\n",
              "                                    'n/a'} - `));\n",
              "    const percent = span('0% done');\n",
              "    li.appendChild(percent);\n",
              "\n",
              "    outputElement.appendChild(li);\n",
              "\n",
              "    const fileDataPromise = new Promise((resolve) => {\n",
              "      const reader = new FileReader();\n",
              "      reader.onload = (e) => {\n",
              "        resolve(e.target.result);\n",
              "      };\n",
              "      reader.readAsArrayBuffer(file);\n",
              "    });\n",
              "    // Wait for the data to be ready.\n",
              "    let fileData = yield {\n",
              "      promise: fileDataPromise,\n",
              "      response: {\n",
              "        action: 'continue',\n",
              "      }\n",
              "    };\n",
              "\n",
              "    // Use a chunked sending to avoid message size limits. See b/62115660.\n",
              "    let position = 0;\n",
              "    do {\n",
              "      const length = Math.min(fileData.byteLength - position, MAX_PAYLOAD_SIZE);\n",
              "      const chunk = new Uint8Array(fileData, position, length);\n",
              "      position += length;\n",
              "\n",
              "      const base64 = btoa(String.fromCharCode.apply(null, chunk));\n",
              "      yield {\n",
              "        response: {\n",
              "          action: 'append',\n",
              "          file: file.name,\n",
              "          data: base64,\n",
              "        },\n",
              "      };\n",
              "\n",
              "      let percentDone = fileData.byteLength === 0 ?\n",
              "          100 :\n",
              "          Math.round((position / fileData.byteLength) * 100);\n",
              "      percent.textContent = `${percentDone}% done`;\n",
              "\n",
              "    } while (position < fileData.byteLength);\n",
              "  }\n",
              "\n",
              "  // All done.\n",
              "  yield {\n",
              "    response: {\n",
              "      action: 'complete',\n",
              "    }\n",
              "  };\n",
              "}\n",
              "\n",
              "scope.google = scope.google || {};\n",
              "scope.google.colab = scope.google.colab || {};\n",
              "scope.google.colab._files = {\n",
              "  _uploadFiles,\n",
              "  _uploadFilesContinue,\n",
              "};\n",
              "})(self);\n",
              "</script> "
            ]
          },
          "metadata": {}
        },
        {
          "output_type": "stream",
          "name": "stdout",
          "text": [
            "Saving kaggle.json to kaggle.json\n"
          ]
        },
        {
          "output_type": "execute_result",
          "data": {
            "text/plain": [
              "{'kaggle.json': b'{\"username\":\"siddhant1924\",\"key\":\"5414efcbf652dccf9809669d461e2723\"}'}"
            ]
          },
          "metadata": {},
          "execution_count": 2
        }
      ],
      "source": [
        "from google.colab import files\n",
        "files.upload()  # Upload the 'kaggle.json' file here"
      ]
    },
    {
      "cell_type": "code",
      "execution_count": null,
      "metadata": {
        "id": "7MV6NAUvHJmD"
      },
      "outputs": [],
      "source": [
        "import os\n",
        "os.makedirs('/root/.kaggle', exist_ok=True)\n",
        "os.rename('kaggle.json', '/root/.kaggle/kaggle.json')"
      ]
    },
    {
      "cell_type": "code",
      "execution_count": null,
      "metadata": {
        "colab": {
          "base_uri": "https://localhost:8080/"
        },
        "id": "L8RvuqpBHOmF",
        "outputId": "f7f9a3ea-31bb-4f58-b881-6d6a0f9a4450"
      },
      "outputs": [
        {
          "name": "stdout",
          "output_type": "stream",
          "text": [
            "Warning: Your Kaggle API key is readable by other users on this system! To fix this, you can run 'chmod 600 /root/.kaggle/kaggle.json'\n",
            "Warning: Your Kaggle API key is readable by other users on this system! To fix this, you can run 'chmod 600 /root/.kaggle/kaggle.json'\n"
          ]
        }
      ],
      "source": [
        "from kaggle.api.kaggle_api_extended import KaggleApi\n",
        "\n",
        "api = KaggleApi()\n",
        "api.authenticate()"
      ]
    },
    {
      "cell_type": "code",
      "execution_count": null,
      "metadata": {
        "colab": {
          "base_uri": "https://localhost:8080/"
        },
        "id": "g8GRTPXyHRNI",
        "outputId": "1daea276-9717-4393-cbe9-0c3279b7b574"
      },
      "outputs": [
        {
          "name": "stdout",
          "output_type": "stream",
          "text": [
            "Dataset URL: https://www.kaggle.com/datasets/shaunthesheep/microsoft-catsvsdogs-dataset\n"
          ]
        }
      ],
      "source": [
        "dataset_path = 'shaunthesheep/microsoft-catsvsdogs-dataset'\n",
        "api.dataset_download_files(dataset_path, path='.', unzip=True)"
      ]
    },
    {
      "cell_type": "code",
      "execution_count": null,
      "metadata": {
        "colab": {
          "background_save": true,
          "base_uri": "https://localhost:8080/"
        },
        "id": "Dq6b-9E6HUfX",
        "outputId": "92edc65e-d992-4624-dc2f-247c936c5c60"
      },
      "outputs": [
        {
          "data": {
            "text/plain": [
              "['Dog', 'Cat']"
            ]
          },
          "execution_count": 12,
          "metadata": {},
          "output_type": "execute_result"
        }
      ],
      "source": [
        "import os\n",
        "os.listdir('PetImages')"
      ]
    },
    {
      "cell_type": "code",
      "execution_count": null,
      "metadata": {
        "colab": {
          "base_uri": "https://localhost:8080/"
        },
        "id": "NDBUUcVkHoFV",
        "outputId": "4ad838cc-04f6-477e-b1cf-c5484335e62e"
      },
      "outputs": [
        {
          "name": "stdout",
          "output_type": "stream",
          "text": [
            "Skipped corrupted image: PetImages/Cat/11935.jpg\n",
            "Skipped corrupted image: PetImages/Cat/140.jpg\n",
            "Skipped corrupted image: PetImages/Cat/9565.jpg\n",
            "Skipped corrupted image: PetImages/Cat/8470.jpg\n",
            "Skipped corrupted image: PetImages/Cat/3491.jpg\n",
            "Skipped corrupted image: PetImages/Cat/9171.jpg\n",
            "Skipped corrupted image: PetImages/Cat/666.jpg\n",
            "Skipped corrupted image: PetImages/Cat/2663.jpg\n",
            "Skipped corrupted image: PetImages/Cat/10125.jpg\n",
            "Skipped corrupted image: PetImages/Cat/7978.jpg\n",
            "Skipped corrupted image: PetImages/Cat/4833.jpg\n",
            "Skipped corrupted image: PetImages/Cat/5553.jpg\n",
            "Skipped corrupted image: PetImages/Cat/850.jpg\n",
            "Skipped corrupted image: PetImages/Cat/11874.jpg\n",
            "Skipped corrupted image: PetImages/Cat/936.jpg\n",
            "Skipped corrupted image: PetImages/Cat/11565.jpg\n",
            "Skipped corrupted image: PetImages/Cat/10501.jpg\n",
            "Skipped corrupted image: PetImages/Cat/10404.jpg\n",
            "Skipped corrupted image: PetImages/Cat/3300.jpg\n",
            "Skipped corrupted image: PetImages/Cat/11210.jpg\n",
            "Skipped corrupted image: PetImages/Cat/9778.jpg\n",
            "Skipped corrupted image: PetImages/Cat/10820.jpg\n",
            "Skipped corrupted image: PetImages/Cat/7968.jpg\n",
            "Skipped corrupted image: PetImages/Cat/660.jpg\n",
            "Skipped corrupted image: PetImages/Dog/7459.jpg\n",
            "Skipped corrupted image: PetImages/Dog/1308.jpg\n",
            "Skipped corrupted image: PetImages/Dog/2877.jpg\n",
            "Skipped corrupted image: PetImages/Dog/3136.jpg\n",
            "Skipped corrupted image: PetImages/Dog/6238.jpg\n",
            "Skipped corrupted image: PetImages/Dog/7133.jpg\n",
            "Skipped corrupted image: PetImages/Dog/2688.jpg\n",
            "Skipped corrupted image: PetImages/Dog/7112.jpg\n",
            "Skipped corrupted image: PetImages/Dog/1866.jpg\n",
            "Skipped corrupted image: PetImages/Dog/10797.jpg\n",
            "Skipped corrupted image: PetImages/Dog/5736.jpg\n",
            "Skipped corrupted image: PetImages/Dog/10401.jpg\n",
            "Skipped corrupted image: PetImages/Dog/8730.jpg\n",
            "Skipped corrupted image: PetImages/Dog/7369.jpg\n",
            "Skipped corrupted image: PetImages/Dog/11849.jpg\n",
            "Skipped corrupted image: PetImages/Dog/4367.jpg\n",
            "Skipped corrupted image: PetImages/Dog/11853.jpg\n",
            "Skipped corrupted image: PetImages/Dog/9188.jpg\n",
            "Skipped corrupted image: PetImages/Dog/6059.jpg\n",
            "Skipped corrupted image: PetImages/Dog/2384.jpg\n",
            "Skipped corrupted image: PetImages/Dog/3588.jpg\n",
            "Skipped corrupted image: PetImages/Dog/5604.jpg\n",
            "Skipped corrupted image: PetImages/Dog/3288.jpg\n",
            "Skipped corrupted image: PetImages/Dog/10158.jpg\n",
            "Skipped corrupted image: PetImages/Dog/11702.jpg\n",
            "Skipped corrupted image: PetImages/Dog/11410.jpg\n",
            "Skipped corrupted image: PetImages/Dog/11675.jpg\n",
            "Skipped corrupted image: PetImages/Dog/10747.jpg\n",
            "Skipped corrupted image: PetImages/Dog/7969.jpg\n",
            "Skipped corrupted image: PetImages/Dog/6718.jpg\n",
            "Loaded 24946 images successfully.\n"
          ]
        }
      ],
      "source": [
        "import numpy as np\n",
        "import cv2\n",
        "from sklearn.model_selection import train_test_split\n",
        "from sklearn.preprocessing import LabelEncoder\n",
        "import matplotlib.pyplot as plt\n",
        "import os\n",
        "\n",
        "IMG_SIZE = 128  # Resize images to 128x128\n",
        "\n",
        "# Initialize lists to hold images and labels\n",
        "image_data = []\n",
        "labels = []\n",
        "\n",
        "cat_folder = 'PetImages/Cat'\n",
        "dog_folder = 'PetImages/Dog'\n",
        "\n",
        "def load_and_preprocess_image(folder, label):\n",
        "    for img_name in os.listdir(folder):\n",
        "        img_path = os.path.join(folder, img_name)\n",
        "\n",
        "        # Ensure the file is an image (by extension)\n",
        "        if not img_name.lower().endswith(('.png', '.jpg', '.jpeg')):\n",
        "            continue\n",
        "\n",
        "        try:\n",
        "            img = cv2.imread(img_path)  # Load image\n",
        "            if img is None:\n",
        "                print(f\"Skipped corrupted image: {img_path}\")\n",
        "                continue\n",
        "\n",
        "            img = cv2.resize(img, (IMG_SIZE, IMG_SIZE))  # Resize to 128x128\n",
        "            image_data.append(img)\n",
        "            labels.append(label)\n",
        "\n",
        "        except Exception as e:\n",
        "            print(f\"Error loading {img_path}: {e}\")\n",
        "\n",
        "# Load cat and dog images with error handling\n",
        "load_and_preprocess_image(cat_folder, 'Cat')\n",
        "load_and_preprocess_image(dog_folder, 'Dog')\n",
        "\n",
        "# Convert lists to numpy arrays\n",
        "image_data = np.array(image_data)\n",
        "labels = np.array(labels)\n",
        "\n",
        "print(f\"Loaded {len(image_data)} images successfully.\")\n",
        "\n",
        "# Normalize pixel values (0-255 -> 0-1)\n",
        "image_data = image_data / 255.0\n",
        "\n",
        "# Encode labels (Cat -> 0, Dog -> 1)\n",
        "label_encoder = LabelEncoder()\n",
        "labels = label_encoder.fit_transform(labels)\n",
        "\n",
        "# Split the data into training and testing sets\n",
        "X_train, X_test, y_train, y_test = train_test_split(image_data, labels, test_size=0.2, random_state=42)\n",
        "\n",
        "# Reshape the data to match SVM's input format (flattened vectors)\n",
        "X_train = X_train.reshape(X_train.shape[0], -1)  # Flatten images into vectors\n",
        "X_test = X_test.reshape(X_test.shape[0], -1)  # Flatten images into vectors\n",
        "\n",
        "print(\"Training Data Shape:\", X_train.shape)\n",
        "print(\"Testing Data Shape:\", X_test.shape)\n"
      ]
    },
    {
      "cell_type": "code",
      "execution_count": null,
      "metadata": {
        "id": "pSg6LE6EIcaM"
      },
      "outputs": [],
      "source": [
        "from sklearn.svm import SVC\n",
        "from sklearn.metrics import accuracy_score, classification_report, confusion_matrix\n",
        "\n",
        "# Initialize the SVM model with a linear kernel\n",
        "svm = SVC(kernel='linear', random_state=42)\n",
        "\n",
        "# Train the model\n",
        "svm.fit(X_train, y_train)\n",
        "\n",
        "# Make predictions on the test set\n",
        "y_pred = svm.predict(X_test)\n",
        "\n",
        "# Evaluate the model\n",
        "print(f\"Accuracy: {accuracy_score(y_test, y_pred)}\")\n",
        "print(f\"Classification Report:\\n{classification_report(y_test, y_pred)}\")\n",
        "print(f\"Confusion Matrix:\\n{confusion_matrix(y_test, y_pred)}\")"
      ]
    }
  ],
  "metadata": {
    "colab": {
      "provenance": [],
      "authorship_tag": "ABX9TyM/zxrsqoeO7eUrgX2qZthv",
      "include_colab_link": true
    },
    "kernelspec": {
      "display_name": "Python 3",
      "name": "python3"
    },
    "language_info": {
      "name": "python"
    }
  },
  "nbformat": 4,
  "nbformat_minor": 0
}